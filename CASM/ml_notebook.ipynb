{
 "cells": [
  {
   "cell_type": "markdown",
   "metadata": {},
   "source": [
    "`conda activate CASM_TORCH2`\n",
    "\n",
    "# Install torch if necessary. See https://pytorch.org/get-started/locally/\n",
    "# pip install torch==1.11.0\n",
    "\n",
    "# Install torch geometric if necessary. See: https://pytorch-geometric.readthedocs.io/en/latest/notes/installation.html\n",
    "# pip install torch-scatter torch-sparse torch-cluster torch-spline-conv torch-geometric -f https://data.pyg.org/whl/torch-1.11.0+cpu.html\n"
   ]
  },
  {
   "cell_type": "code",
   "execution_count": 4,
   "metadata": {},
   "outputs": [],
   "source": [
    "import sys\n",
    "sys.path.append('../')\n",
    "\n",
    "import logging\n",
    "logging.getLogger('matplotlib').setLevel(logging.CRITICAL)\n",
    "logging.getLogger('graphein').setLevel(logging.INFO)"
   ]
  },
  {
   "cell_type": "code",
   "execution_count": null,
   "metadata": {},
   "outputs": [],
   "source": []
  },
  {
   "cell_type": "code",
   "execution_count": 30,
   "metadata": {},
   "outputs": [],
   "source": [
    "import pandas as pd\n",
    "import numpy as np\n",
    "\n",
    "import torch\n",
    "import torch.nn as nn\n",
    "import pytorch_lightning as pl\n",
    "from tqdm.notebook import tqdm\n",
    "import networkx as nx\n",
    "import torch_geometric\n",
    "from torch_geometric.data import Data\n",
    "from torch_geometric.utils import from_networkx\n",
    "from sklearn.preprocessing import LabelBinarizer\n",
    "from sklearn.metrics import f1_score\n",
    "\n",
    "import math\n",
    "import glob\n",
    "\n",
    "import warnings\n",
    "warnings.filterwarnings(\"ignore\")"
   ]
  },
  {
   "cell_type": "code",
   "execution_count": 18,
   "metadata": {},
   "outputs": [
    {
     "name": "stdout",
     "output_type": "stream",
     "text": [
      "tensor([[-0.1810, -0.1420,  0.4877, -0.8634,  0.2543,  0.3596, -0.4206, -1.6959,\n",
      "          0.5501,  0.2975],\n",
      "        [-0.1548, -1.1922, -0.4439,  0.0369, -0.3331,  0.2836,  0.7073,  0.7566,\n",
      "          0.2760,  0.8032],\n",
      "        [-0.0613, -0.9581,  0.1742,  0.2459, -0.9061,  0.9821,  0.9204, -0.7289,\n",
      "         -0.2647, -0.2588],\n",
      "        [ 1.0710, -0.3850,  1.0271,  0.7643,  1.6322,  0.5264,  0.1415, -0.3935,\n",
      "         -0.2695,  0.9044],\n",
      "        [-0.6352,  2.1997,  1.0185,  0.4732,  0.0593, -2.2480,  1.1534,  1.0344,\n",
      "         -0.7669, -2.0264]])\n"
     ]
    }
   ],
   "source": [
    "from CASM.kin_sub_pairs import load_kin_sub_list\n",
    "df = load_kin_sub_list(\n",
    "    \"../datasets/Kinase_Substrate_Dataset\"\n",
    ")\n",
    "#print(df)\n",
    "\n",
    "# Filter for only ``str`` rows\n",
    "def filter_fn(row):\n",
    "    if type(row['KIN_ACC_ID']) == str: \n",
    "        return True\n",
    "    else: return False\n",
    "    \n",
    "df.apply(filter_fn, axis=1)\n",
    "\n",
    "#y = torch.randn([5, 10])\n",
    "\n"
   ]
  },
  {
   "cell_type": "code",
   "execution_count": 53,
   "metadata": {},
   "outputs": [
    {
     "name": "stdout",
     "output_type": "stream",
     "text": [
      "(22217, 7)\n",
      "P1: ['1FLK' '2JVX' '3ALN' '1J0W' '5FQD' '4EGC' '2CYX' '1CFH' '3UXG' '1P9C']\n"
     ]
    },
    {
     "ename": "IndexError",
     "evalue": "list index out of range",
     "output_type": "error",
     "traceback": [
      "\u001b[0;31m---------------------------------------------------------------------------\u001b[0m",
      "\u001b[0;31mIndexError\u001b[0m                                Traceback (most recent call last)",
      "\u001b[1;32m/home/cim/STRUCTURAL_MOTIFS/CASM/CASM/ml_notebook.ipynb Cell 6\u001b[0m in \u001b[0;36m<cell line: 36>\u001b[0;34m()\u001b[0m\n\u001b[1;32m     <a href='vscode-notebook-cell:/home/cim/STRUCTURAL_MOTIFS/CASM/CASM/ml_notebook.ipynb#W5sZmlsZQ%3D%3D?line=30'>31</a>\u001b[0m       \u001b[39mreturn\u001b[39;00m prot_1, prot_2, torch\u001b[39m.\u001b[39mtensor(\u001b[39mself\u001b[39m\u001b[39m.\u001b[39mlabel[index])\n\u001b[1;32m     <a href='vscode-notebook-cell:/home/cim/STRUCTURAL_MOTIFS/CASM/CASM/ml_notebook.ipynb#W5sZmlsZQ%3D%3D?line=33'>34</a>\u001b[0m dataset \u001b[39m=\u001b[39m LabelledDataset(npy_file \u001b[39m=\u001b[39m npy_file ,processed_dir\u001b[39m=\u001b[39m processed_dir)\n\u001b[0;32m---> <a href='vscode-notebook-cell:/home/cim/STRUCTURAL_MOTIFS/CASM/CASM/ml_notebook.ipynb#W5sZmlsZQ%3D%3D?line=35'>36</a>\u001b[0m \u001b[39mprint\u001b[39m(dataset[\u001b[39m0\u001b[39;49m])\n\u001b[1;32m     <a href='vscode-notebook-cell:/home/cim/STRUCTURAL_MOTIFS/CASM/CASM/ml_notebook.ipynb#W5sZmlsZQ%3D%3D?line=37'>38</a>\u001b[0m final_pairs \u001b[39m=\u001b[39m  np\u001b[39m.\u001b[39mload(npy_file)\n\u001b[1;32m     <a href='vscode-notebook-cell:/home/cim/STRUCTURAL_MOTIFS/CASM/CASM/ml_notebook.ipynb#W5sZmlsZQ%3D%3D?line=38'>39</a>\u001b[0m size \u001b[39m=\u001b[39m final_pairs\u001b[39m.\u001b[39mshape[\u001b[39m0\u001b[39m]\n",
      "\u001b[1;32m/home/cim/STRUCTURAL_MOTIFS/CASM/CASM/ml_notebook.ipynb Cell 6\u001b[0m in \u001b[0;36mLabelledDataset.__getitem__\u001b[0;34m(self, index)\u001b[0m\n\u001b[1;32m     <a href='vscode-notebook-cell:/home/cim/STRUCTURAL_MOTIFS/CASM/CASM/ml_notebook.ipynb#W5sZmlsZQ%3D%3D?line=25'>26</a>\u001b[0m prot_2 \u001b[39m=\u001b[39m os\u001b[39m.\u001b[39mpath\u001b[39m.\u001b[39mjoin(\u001b[39mself\u001b[39m\u001b[39m.\u001b[39mprocessed_dir, \u001b[39mself\u001b[39m\u001b[39m.\u001b[39mprotein_2[index]\u001b[39m+\u001b[39m\u001b[39m\"\u001b[39m\u001b[39m.pt\u001b[39m\u001b[39m\"\u001b[39m)\n\u001b[1;32m     <a href='vscode-notebook-cell:/home/cim/STRUCTURAL_MOTIFS/CASM/CASM/ml_notebook.ipynb#W5sZmlsZQ%3D%3D?line=26'>27</a>\u001b[0m \u001b[39m#print(f'Second prot is {prot_2}')\u001b[39;00m\n\u001b[0;32m---> <a href='vscode-notebook-cell:/home/cim/STRUCTURAL_MOTIFS/CASM/CASM/ml_notebook.ipynb#W5sZmlsZQ%3D%3D?line=27'>28</a>\u001b[0m prot_1 \u001b[39m=\u001b[39m torch\u001b[39m.\u001b[39mload(glob\u001b[39m.\u001b[39;49mglob(prot_1)[\u001b[39m0\u001b[39;49m])\n\u001b[1;32m     <a href='vscode-notebook-cell:/home/cim/STRUCTURAL_MOTIFS/CASM/CASM/ml_notebook.ipynb#W5sZmlsZQ%3D%3D?line=28'>29</a>\u001b[0m \u001b[39m#print(f'Here lies {glob.glob(prot_2)}')\u001b[39;00m\n\u001b[1;32m     <a href='vscode-notebook-cell:/home/cim/STRUCTURAL_MOTIFS/CASM/CASM/ml_notebook.ipynb#W5sZmlsZQ%3D%3D?line=29'>30</a>\u001b[0m prot_2 \u001b[39m=\u001b[39m torch\u001b[39m.\u001b[39mload(glob\u001b[39m.\u001b[39mglob(prot_2)[\u001b[39m0\u001b[39m])\n",
      "\u001b[0;31mIndexError\u001b[0m: list index out of range"
     ]
    }
   ],
   "source": [
    "npy_file = \"../../DATA/PPI/npy_file_human_dataset.npy\"\n",
    "processed_dir = \"../../DATA/processed\"\n",
    "npy_ar = np.load(npy_file)\n",
    "\n",
    "print(npy_ar.shape)\n",
    "\n",
    "from torch.utils.data import Dataset as Dataset_n\n",
    "from torch_geometric.data import DataLoader as DataLoader_n\n",
    "\n",
    "class LabelledDataset(Dataset_n):\n",
    "    def __init__(self, npy_file, processed_dir):\n",
    "      self.npy_ar = np.load(npy_file)\n",
    "      self.processed_dir = processed_dir\n",
    "      self.protein_1 = self.npy_ar[:,2]\n",
    "      self.protein_2 = self.npy_ar[:,5]\n",
    "      self.label = self.npy_ar[:,6].astype(float)\n",
    "      self.n_samples = self.npy_ar.shape[0]\n",
    "\n",
    "      print(f\"P1: {self.protein_1[0:10]}\")\n",
    "\n",
    "    def __len__(self):\n",
    "      return(self.n_samples)\n",
    "\n",
    "    def __getitem__(self, index):\n",
    "      prot_1 = os.path.join(self.processed_dir, self.protein_1[index]+\".pt\")\n",
    "      prot_2 = os.path.join(self.processed_dir, self.protein_2[index]+\".pt\")\n",
    "      #print(f'Second prot is {prot_2}')\n",
    "      prot_1 = torch.load(glob.glob(prot_1)[0])\n",
    "      #print(f'Here lies {glob.glob(prot_2)}')\n",
    "      prot_2 = torch.load(glob.glob(prot_2)[0])\n",
    "      return prot_1, prot_2, torch.tensor(self.label[index])\n",
    "\n",
    "\n",
    "dataset = LabelledDataset(npy_file = npy_file ,processed_dir= processed_dir)\n",
    "\n",
    "print(dataset[0])\n",
    "\n",
    "final_pairs =  np.load(npy_file)\n",
    "size = final_pairs.shape[0]\n",
    "\n",
    "seed = 42\n",
    "torch.manual_seed(seed)\n",
    "\n",
    "trainset, testset = torch.utils.data.random_split(dataset, [math.floor(0.8 * size), size - math.floor(0.8 * size) ])\n",
    "\n",
    "\n",
    "# Dataloaders\n",
    "trainloader = DataLoader_n(dataset= trainset, batch_size= 4, num_workers = 0)\n",
    "testloader = DataLoader_n(dataset= testset, batch_size= 4, num_workers = 0)\n",
    "print(\"Length\")\n",
    "print(len(trainloader))\n",
    "print(len(testloader))\n",
    "\n",
    "\n",
    "\n"
   ]
  },
  {
   "cell_type": "code",
   "execution_count": 54,
   "metadata": {},
   "outputs": [
    {
     "name": "stderr",
     "output_type": "stream",
     "text": [
      "To use the Graphein submodule graphein.protein.features.sequence.embeddings, you need to install: biovec \n",
      "biovec cannot be installed via conda\n",
      "To use the Graphein submodule graphein.protein.visualisation, you need to install: pytorch3d \n",
      "To do so, use the following command: conda install -c pytorch3d pytorch3d\n"
     ]
    },
    {
     "data": {
      "text/html": [
       "<pre style=\"white-space:pre;overflow-x:auto;line-height:normal;font-family:Menlo,'DejaVu Sans Mono',consolas,'Courier New',monospace\"><span style=\"color: #7fbfbf; text-decoration-color: #7fbfbf\">[10/30/22 19:41:07] </span><span style=\"color: #800000; text-decoration-color: #800000\">WARNING </span> To use the Graphein submodule graphein.protein.meshes, you need to        <a href=\"file:///home/cim/anaconda3/envs/CASM_TORCH2/lib/python3.10/site-packages/graphein/protein/meshes.py\" target=\"_blank\"><span style=\"color: #7f7f7f; text-decoration-color: #7f7f7f\">meshes.py</span></a><span style=\"color: #7f7f7f; text-decoration-color: #7f7f7f\">:</span><a href=\"file:///home/cim/anaconda3/envs/CASM_TORCH2/lib/python3.10/site-packages/graphein/protein/meshes.py#29\" target=\"_blank\"><span style=\"color: #7f7f7f; text-decoration-color: #7f7f7f\">29</span></a>\n",
       "<span style=\"color: #7fbfbf; text-decoration-color: #7fbfbf\">                    </span>         install: pytorch3d                                                        <span style=\"color: #7f7f7f; text-decoration-color: #7f7f7f\">            </span>\n",
       "<span style=\"color: #7fbfbf; text-decoration-color: #7fbfbf\">                    </span>         To do so, use the following command: conda install -c pytorch3d pytorch3d <span style=\"color: #7f7f7f; text-decoration-color: #7f7f7f\">            </span>\n",
       "</pre>\n"
      ],
      "text/plain": [
       "\u001b[2;36m[10/30/22 19:41:07]\u001b[0m\u001b[2;36m \u001b[0m\u001b[31mWARNING \u001b[0m To use the Graphein submodule graphein.protein.meshes, you need to        \u001b]8;id=233760;file:///home/cim/anaconda3/envs/CASM_TORCH2/lib/python3.10/site-packages/graphein/protein/meshes.py\u001b\\\u001b[2mmeshes.py\u001b[0m\u001b]8;;\u001b\\\u001b[2m:\u001b[0m\u001b]8;id=594025;file:///home/cim/anaconda3/envs/CASM_TORCH2/lib/python3.10/site-packages/graphein/protein/meshes.py#29\u001b\\\u001b[2m29\u001b[0m\u001b]8;;\u001b\\\n",
       "\u001b[2;36m                    \u001b[0m         install: pytorch3d                                                        \u001b[2m            \u001b[0m\n",
       "\u001b[2;36m                    \u001b[0m         To do so, use the following command: conda install -c pytorch3d pytorch3d \u001b[2m            \u001b[0m\n"
      ]
     },
     "metadata": {},
     "output_type": "display_data"
    }
   ],
   "source": [
    "\n",
    "import torch\n",
    "from graphein.ml import ProteinGraphDataset\n",
    "import graphein.protein as gp"
   ]
  },
  {
   "cell_type": "code",
   "execution_count": null,
   "metadata": {},
   "outputs": [],
   "source": [
    "\"\"\"\n",
    "Kinase dataset\n",
    "\"\"\"\n",
    "\n",
    "npy_file = \"../CASM/alphafold_structures\" # TODO:SAVED ARRAY OF INTERACTING PROTEIN PAIRS\n",
    "processed_dir = \"../../\"\n",
    "npy_ar = np.load(npy_file)\n",
    "\n",
    "\n",
    "print(npy_ar.shape)\n",
    "\n",
    "from torch.utils.data import Dataset \n",
    "from torch_geometric.data import DataLoader \n",
    "\n",
    "class KinaseInteractionDataset(Dataset):\n",
    "    def __init__(self, npy_file, processed_dir):\n",
    "\n",
    "      # TODO\n",
    "      self.npy_ar = np.load(npy_file)\n",
    "      self.processed_dir = processed_dir\n",
    "      self.kinase = self.npy_ar[:,2]\n",
    "      self.substrate = self.npy_ar[:,5]\n",
    "\n",
    "      self.mod_rsd = self.npy_ar[:,6]\n",
    "\n",
    "      self.label = self.npy_ar[:,6].astype(float)\n",
    "      self.n_samples = self.npy_ar.shape[0]\n",
    "\n",
    "      print(f\"kinase: {self.kinase[0:10]}\")\n",
    "\n",
    "    def __len__(self):\n",
    "      return(self.n_samples)\n",
    "\n",
    "    def __getitem__(self, index):\n",
    "      \n",
    "\n",
    "      kinase = os.path.join(self.processed_dir, self.kinase[index]+\".pt\")\n",
    "      site = os.path.join(self.processed_dir, self.substrate[index] + \"-\" + self.mod_rsd[index] + \".pt\") # Filenames are {acc_id}-{mod_rsd}.pt\n",
    "\n",
    "\n",
    "      kinase = torch.load(glob.glob(kinase)[0])\n",
    "\n",
    "      psite = torch.load(glob.glob(psite)[0])\n",
    "\n",
    "      return kinase, psite, mod_rsd, torch.tensor(self.label[index])\n",
    "\n",
    "      # TODO: alternative to keeping labels stored:  in __getitem__ , we lookup from another source whether or not \n",
    "      # the two things interact (i.e. which label); since this will change based on how we create negative examples etc. \n",
    "      # so we should abstract away into a function that returns what the label is\n",
    "      # this means we don't regenerate the .npy array everytime we modify our dataset\n",
    "\n",
    "dataset = KinaseInteractionDataset(npy_file=npy_file ,processed_dir=processed_dir)\n",
    "\n",
    "print(dataset[0])\n",
    "\n",
    "final_pairs =  np.load(npy_file)\n",
    "size = final_pairs.shape[0]\n",
    "\n",
    "seed = 42\n",
    "torch.manual_seed(seed)\n",
    "\n",
    "trainset, testset = torch.utils.data.random_split(dataset, [math.floor(0.8 * size), size - math.floor(0.8 * size) ])\n",
    "\n",
    "\n",
    "# Dataloaders\n",
    "trainloader = DataLoader(dataset=trainset, batch_size=4, num_workers = 0)\n",
    "testloader = DataLoader(dataset=testset, batch_size=4, num_workers = 0)\n",
    "print(\"Length\")\n",
    "print(len(trainloader))\n",
    "print(len(testloader))\n"
   ]
  },
  {
   "cell_type": "code",
   "execution_count": 52,
   "metadata": {},
   "outputs": [
    {
     "ename": "IndexError",
     "evalue": "list index out of range",
     "output_type": "error",
     "traceback": [
      "\u001b[0;31m---------------------------------------------------------------------------\u001b[0m",
      "\u001b[0;31mIndexError\u001b[0m                                Traceback (most recent call last)",
      "\u001b[1;32m/home/cim/STRUCTURAL_MOTIFS/CASM/CASM/ml_notebook.ipynb Cell 7\u001b[0m in \u001b[0;36m<cell line: 16>\u001b[0;34m()\u001b[0m\n\u001b[1;32m     <a href='vscode-notebook-cell:/home/cim/STRUCTURAL_MOTIFS/CASM/CASM/ml_notebook.ipynb#W6sZmlsZQ%3D%3D?line=10'>11</a>\u001b[0m \u001b[39mfrom\u001b[39;00m \u001b[39mtorch\u001b[39;00m\u001b[39m.\u001b[39;00m\u001b[39moptim\u001b[39;00m\u001b[39m.\u001b[39;00m\u001b[39mlr_scheduler\u001b[39;00m \u001b[39mimport\u001b[39;00m MultiStepLR, ReduceLROnPlateau\n\u001b[1;32m     <a href='vscode-notebook-cell:/home/cim/STRUCTURAL_MOTIFS/CASM/CASM/ml_notebook.ipynb#W6sZmlsZQ%3D%3D?line=11'>12</a>\u001b[0m \u001b[39m#from metrics import *\u001b[39;00m\n\u001b[0;32m---> <a href='vscode-notebook-cell:/home/cim/STRUCTURAL_MOTIFS/CASM/CASM/ml_notebook.ipynb#W6sZmlsZQ%3D%3D?line=15'>16</a>\u001b[0m \u001b[39mfor\u001b[39;00m count, (p1, p2, label) \u001b[39min\u001b[39;00m \u001b[39menumerate\u001b[39m(trainloader):\n\u001b[1;32m     <a href='vscode-notebook-cell:/home/cim/STRUCTURAL_MOTIFS/CASM/CASM/ml_notebook.ipynb#W6sZmlsZQ%3D%3D?line=17'>18</a>\u001b[0m     \u001b[39mprint\u001b[39m(label)\n",
      "File \u001b[0;32m~/anaconda3/envs/CASM_TORCH2/lib/python3.10/site-packages/torch/utils/data/dataloader.py:530\u001b[0m, in \u001b[0;36m_BaseDataLoaderIter.__next__\u001b[0;34m(self)\u001b[0m\n\u001b[1;32m    528\u001b[0m \u001b[39mif\u001b[39;00m \u001b[39mself\u001b[39m\u001b[39m.\u001b[39m_sampler_iter \u001b[39mis\u001b[39;00m \u001b[39mNone\u001b[39;00m:\n\u001b[1;32m    529\u001b[0m     \u001b[39mself\u001b[39m\u001b[39m.\u001b[39m_reset()\n\u001b[0;32m--> 530\u001b[0m data \u001b[39m=\u001b[39m \u001b[39mself\u001b[39;49m\u001b[39m.\u001b[39;49m_next_data()\n\u001b[1;32m    531\u001b[0m \u001b[39mself\u001b[39m\u001b[39m.\u001b[39m_num_yielded \u001b[39m+\u001b[39m\u001b[39m=\u001b[39m \u001b[39m1\u001b[39m\n\u001b[1;32m    532\u001b[0m \u001b[39mif\u001b[39;00m \u001b[39mself\u001b[39m\u001b[39m.\u001b[39m_dataset_kind \u001b[39m==\u001b[39m _DatasetKind\u001b[39m.\u001b[39mIterable \u001b[39mand\u001b[39;00m \\\n\u001b[1;32m    533\u001b[0m         \u001b[39mself\u001b[39m\u001b[39m.\u001b[39m_IterableDataset_len_called \u001b[39mis\u001b[39;00m \u001b[39mnot\u001b[39;00m \u001b[39mNone\u001b[39;00m \u001b[39mand\u001b[39;00m \\\n\u001b[1;32m    534\u001b[0m         \u001b[39mself\u001b[39m\u001b[39m.\u001b[39m_num_yielded \u001b[39m>\u001b[39m \u001b[39mself\u001b[39m\u001b[39m.\u001b[39m_IterableDataset_len_called:\n",
      "File \u001b[0;32m~/anaconda3/envs/CASM_TORCH2/lib/python3.10/site-packages/torch/utils/data/dataloader.py:570\u001b[0m, in \u001b[0;36m_SingleProcessDataLoaderIter._next_data\u001b[0;34m(self)\u001b[0m\n\u001b[1;32m    568\u001b[0m \u001b[39mdef\u001b[39;00m \u001b[39m_next_data\u001b[39m(\u001b[39mself\u001b[39m):\n\u001b[1;32m    569\u001b[0m     index \u001b[39m=\u001b[39m \u001b[39mself\u001b[39m\u001b[39m.\u001b[39m_next_index()  \u001b[39m# may raise StopIteration\u001b[39;00m\n\u001b[0;32m--> 570\u001b[0m     data \u001b[39m=\u001b[39m \u001b[39mself\u001b[39;49m\u001b[39m.\u001b[39;49m_dataset_fetcher\u001b[39m.\u001b[39;49mfetch(index)  \u001b[39m# may raise StopIteration\u001b[39;00m\n\u001b[1;32m    571\u001b[0m     \u001b[39mif\u001b[39;00m \u001b[39mself\u001b[39m\u001b[39m.\u001b[39m_pin_memory:\n\u001b[1;32m    572\u001b[0m         data \u001b[39m=\u001b[39m _utils\u001b[39m.\u001b[39mpin_memory\u001b[39m.\u001b[39mpin_memory(data)\n",
      "File \u001b[0;32m~/anaconda3/envs/CASM_TORCH2/lib/python3.10/site-packages/torch/utils/data/_utils/fetch.py:49\u001b[0m, in \u001b[0;36m_MapDatasetFetcher.fetch\u001b[0;34m(self, possibly_batched_index)\u001b[0m\n\u001b[1;32m     47\u001b[0m \u001b[39mdef\u001b[39;00m \u001b[39mfetch\u001b[39m(\u001b[39mself\u001b[39m, possibly_batched_index):\n\u001b[1;32m     48\u001b[0m     \u001b[39mif\u001b[39;00m \u001b[39mself\u001b[39m\u001b[39m.\u001b[39mauto_collation:\n\u001b[0;32m---> 49\u001b[0m         data \u001b[39m=\u001b[39m [\u001b[39mself\u001b[39m\u001b[39m.\u001b[39mdataset[idx] \u001b[39mfor\u001b[39;00m idx \u001b[39min\u001b[39;00m possibly_batched_index]\n\u001b[1;32m     50\u001b[0m     \u001b[39melse\u001b[39;00m:\n\u001b[1;32m     51\u001b[0m         data \u001b[39m=\u001b[39m \u001b[39mself\u001b[39m\u001b[39m.\u001b[39mdataset[possibly_batched_index]\n",
      "File \u001b[0;32m~/anaconda3/envs/CASM_TORCH2/lib/python3.10/site-packages/torch/utils/data/_utils/fetch.py:49\u001b[0m, in \u001b[0;36m<listcomp>\u001b[0;34m(.0)\u001b[0m\n\u001b[1;32m     47\u001b[0m \u001b[39mdef\u001b[39;00m \u001b[39mfetch\u001b[39m(\u001b[39mself\u001b[39m, possibly_batched_index):\n\u001b[1;32m     48\u001b[0m     \u001b[39mif\u001b[39;00m \u001b[39mself\u001b[39m\u001b[39m.\u001b[39mauto_collation:\n\u001b[0;32m---> 49\u001b[0m         data \u001b[39m=\u001b[39m [\u001b[39mself\u001b[39;49m\u001b[39m.\u001b[39;49mdataset[idx] \u001b[39mfor\u001b[39;00m idx \u001b[39min\u001b[39;00m possibly_batched_index]\n\u001b[1;32m     50\u001b[0m     \u001b[39melse\u001b[39;00m:\n\u001b[1;32m     51\u001b[0m         data \u001b[39m=\u001b[39m \u001b[39mself\u001b[39m\u001b[39m.\u001b[39mdataset[possibly_batched_index]\n",
      "File \u001b[0;32m~/anaconda3/envs/CASM_TORCH2/lib/python3.10/site-packages/torch/utils/data/dataset.py:471\u001b[0m, in \u001b[0;36mSubset.__getitem__\u001b[0;34m(self, idx)\u001b[0m\n\u001b[1;32m    469\u001b[0m \u001b[39mif\u001b[39;00m \u001b[39misinstance\u001b[39m(idx, \u001b[39mlist\u001b[39m):\n\u001b[1;32m    470\u001b[0m     \u001b[39mreturn\u001b[39;00m \u001b[39mself\u001b[39m\u001b[39m.\u001b[39mdataset[[\u001b[39mself\u001b[39m\u001b[39m.\u001b[39mindices[i] \u001b[39mfor\u001b[39;00m i \u001b[39min\u001b[39;00m idx]]\n\u001b[0;32m--> 471\u001b[0m \u001b[39mreturn\u001b[39;00m \u001b[39mself\u001b[39;49m\u001b[39m.\u001b[39;49mdataset[\u001b[39mself\u001b[39;49m\u001b[39m.\u001b[39;49mindices[idx]]\n",
      "\u001b[1;32m/home/cim/STRUCTURAL_MOTIFS/CASM/CASM/ml_notebook.ipynb Cell 7\u001b[0m in \u001b[0;36mLabelledDataset.__getitem__\u001b[0;34m(self, index)\u001b[0m\n\u001b[1;32m     <a href='vscode-notebook-cell:/home/cim/STRUCTURAL_MOTIFS/CASM/CASM/ml_notebook.ipynb#W6sZmlsZQ%3D%3D?line=25'>26</a>\u001b[0m prot_2 \u001b[39m=\u001b[39m os\u001b[39m.\u001b[39mpath\u001b[39m.\u001b[39mjoin(\u001b[39mself\u001b[39m\u001b[39m.\u001b[39mprocessed_dir, \u001b[39mself\u001b[39m\u001b[39m.\u001b[39mprotein_2[index]\u001b[39m+\u001b[39m\u001b[39m\"\u001b[39m\u001b[39m.pt\u001b[39m\u001b[39m\"\u001b[39m)\n\u001b[1;32m     <a href='vscode-notebook-cell:/home/cim/STRUCTURAL_MOTIFS/CASM/CASM/ml_notebook.ipynb#W6sZmlsZQ%3D%3D?line=26'>27</a>\u001b[0m \u001b[39m#print(f'Second prot is {prot_2}')\u001b[39;00m\n\u001b[0;32m---> <a href='vscode-notebook-cell:/home/cim/STRUCTURAL_MOTIFS/CASM/CASM/ml_notebook.ipynb#W6sZmlsZQ%3D%3D?line=27'>28</a>\u001b[0m prot_1 \u001b[39m=\u001b[39m torch\u001b[39m.\u001b[39mload(glob\u001b[39m.\u001b[39;49mglob(prot_1)[\u001b[39m0\u001b[39;49m])\n\u001b[1;32m     <a href='vscode-notebook-cell:/home/cim/STRUCTURAL_MOTIFS/CASM/CASM/ml_notebook.ipynb#W6sZmlsZQ%3D%3D?line=28'>29</a>\u001b[0m \u001b[39m#print(f'Here lies {glob.glob(prot_2)}')\u001b[39;00m\n\u001b[1;32m     <a href='vscode-notebook-cell:/home/cim/STRUCTURAL_MOTIFS/CASM/CASM/ml_notebook.ipynb#W6sZmlsZQ%3D%3D?line=29'>30</a>\u001b[0m prot_2 \u001b[39m=\u001b[39m torch\u001b[39m.\u001b[39mload(glob\u001b[39m.\u001b[39mglob(prot_2)[\u001b[39m0\u001b[39m])\n",
      "\u001b[0;31mIndexError\u001b[0m: list index out of range"
     ]
    }
   ],
   "source": [
    "import torch\n",
    "import numpy as np\n",
    "import matplotlib.pyplot as plt\n",
    "import os\n",
    "import glob\n",
    "from tqdm import tqdm\n",
    "import pathlib\n",
    "import math\n",
    "import sklearn\n",
    "#import torch_optimizer as optim\n",
    "from torch.optim.lr_scheduler import MultiStepLR, ReduceLROnPlateau\n",
    "#from metrics import *\n",
    "\n",
    "\n",
    "\n",
    "for count, (p1, p2, label) in enumerate(trainloader):\n",
    "\n",
    "    print(label)"
   ]
  },
  {
   "cell_type": "code",
   "execution_count": null,
   "metadata": {},
   "outputs": [],
   "source": []
  }
 ],
 "metadata": {
  "kernelspec": {
   "display_name": "Python 3.10.6 ('CASM_TORCH2')",
   "language": "python",
   "name": "python3"
  },
  "language_info": {
   "codemirror_mode": {
    "name": "ipython",
    "version": 3
   },
   "file_extension": ".py",
   "mimetype": "text/x-python",
   "name": "python",
   "nbconvert_exporter": "python",
   "pygments_lexer": "ipython3",
   "version": "3.10.6"
  },
  "orig_nbformat": 4,
  "vscode": {
   "interpreter": {
    "hash": "4c4ed45c4eeba400ff1edc472d35bc8adf70dd22f7ff4555318681f103257799"
   }
  }
 },
 "nbformat": 4,
 "nbformat_minor": 2
}

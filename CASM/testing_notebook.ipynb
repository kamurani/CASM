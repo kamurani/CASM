{
 "cells": [
  {
   "cell_type": "code",
   "execution_count": null,
   "metadata": {},
   "outputs": [],
   "source": [
    "# Whatever\n",
    "\n",
    "import re \n",
    "\n",
    "mod_rsd = \"S99-p\"\n",
    "\n",
    "p = re.compile(\"([a-zA-Z]{1})([0-9]+)-([a-zA-Z])\")\n",
    "match = p.search(mod_rsd)\n",
    "\n",
    "a = ':'.join([match.group(i) for i in [1,2,3]])\n",
    "a\n"
   ]
  }
 ],
 "metadata": {
  "kernelspec": {
   "display_name": "Python 3.10.4 (conda)",
   "language": "python",
   "name": "python3"
  },
  "language_info": {
   "name": "python",
   "version": "3.10.4"
  },
  "orig_nbformat": 4,
  "vscode": {
   "interpreter": {
    "hash": "eca04fe896b0746f57e5e8103ee2ce1a89bf8a32eaa7b7e122dd1fdedb58d710"
   }
  }
 },
 "nbformat": 4,
 "nbformat_minor": 2
}
